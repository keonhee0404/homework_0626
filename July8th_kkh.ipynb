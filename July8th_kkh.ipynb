{
 "cells": [
  {
   "cell_type": "code",
   "execution_count": null,
   "id": "72fbfcb7-ecf8-4322-8536-1aaf4b638370",
   "metadata": {},
   "outputs": [],
   "source": [
    "#1\n",
    "print(\"Hello\")"
   ]
  },
  {
   "cell_type": "code",
   "execution_count": null,
   "id": "b3c904be-c75d-497f-b6c8-1ed605679ee7",
   "metadata": {},
   "outputs": [],
   "source": [
    "#2\n",
    "print(\"Hello World\")"
   ]
  },
  {
   "cell_type": "code",
   "execution_count": null,
   "id": "bcff818d-41e4-45ed-ba2c-110140f109c1",
   "metadata": {},
   "outputs": [],
   "source": [
    "#3\n",
    "print(\"Hello\")\n",
    "print(\"World\")"
   ]
  },
  {
   "cell_type": "code",
   "execution_count": null,
   "id": "b8985e66-f469-4814-ac15-ebbd8a1c317c",
   "metadata": {},
   "outputs": [],
   "source": [
    "#4\n",
    "print(\"'Hello'\")"
   ]
  },
  {
   "cell_type": "code",
   "execution_count": null,
   "id": "6a04eeba-21ed-4db9-9229-480c0a0381a6",
   "metadata": {},
   "outputs": [],
   "source": [
    "#5\n",
    "print(\"\\\"Hello World\\\"\")"
   ]
  },
  {
   "cell_type": "code",
   "execution_count": null,
   "id": "0527de0f-2b58-4834-aedb-7db44cb66712",
   "metadata": {},
   "outputs": [],
   "source": [
    "#6\n",
    "print(\"\\\"!@#$%^&*()\\'\")"
   ]
  },
  {
   "cell_type": "code",
   "execution_count": null,
   "id": "d05ec8a0-9977-4c80-a87e-201e38f224d8",
   "metadata": {},
   "outputs": [],
   "source": [
    "#7\n",
    "print(\"\\\"C:\\\\Download\\\\\\'hello\\'.py\\\"\")"
   ]
  },
  {
   "cell_type": "code",
   "execution_count": null,
   "id": "a6272648-d546-4f71-b95a-e22408e39f5b",
   "metadata": {},
   "outputs": [],
   "source": [
    "#8\n",
    "print(\"print(\\\"Hello\\\\nWorld\\\")\")"
   ]
  },
  {
   "cell_type": "code",
   "execution_count": null,
   "id": "92ae7810-89c5-4ccd-b82f-b3bdce9c799f",
   "metadata": {},
   "outputs": [],
   "source": [
    "#9\n",
    "a = input()\n",
    "print(a)\n"
   ]
  },
  {
   "cell_type": "code",
   "execution_count": null,
   "id": "02834ca8-f383-4878-9f1b-ba57e2e48329",
   "metadata": {},
   "outputs": [],
   "source": [
    "#10\n",
    "n=int(input())\n",
    "print(n)"
   ]
  },
  {
   "cell_type": "code",
   "execution_count": null,
   "id": "27ecfac9-5f47-42d2-acd4-8f63a2ae5325",
   "metadata": {},
   "outputs": [],
   "source": [
    "#11\n",
    "f = input()\n",
    "f = float(f)\n",
    "print(f)\n"
   ]
  },
  {
   "cell_type": "code",
   "execution_count": null,
   "id": "00882565-2435-4c67-b5ce-bc05916fffc5",
   "metadata": {},
   "outputs": [],
   "source": [
    "#12\n",
    "a=int(input())\n",
    "b=int(input())\n",
    "print(a)\n",
    "print(b)\n"
   ]
  },
  {
   "cell_type": "code",
   "execution_count": null,
   "id": "52919e23-94a4-4cdb-a7d6-8fdbe03134a2",
   "metadata": {},
   "outputs": [],
   "source": [
    "#13\n",
    "a=input()\n",
    "b=input()\n",
    "print(b)\n",
    "print(a)\n"
   ]
  },
  {
   "cell_type": "code",
   "execution_count": null,
   "id": "3dbf9c34-3648-44b5-a738-d256a1f58006",
   "metadata": {},
   "outputs": [],
   "source": [
    "#14\n",
    "a= float((input()))\n",
    "print(a)\n",
    "print(a)\n",
    "print(a)\n"
   ]
  },
  {
   "cell_type": "code",
   "execution_count": null,
   "id": "78439a82-56e6-4776-9380-27a3698c8dcc",
   "metadata": {},
   "outputs": [],
   "source": [
    "#15\n",
    "a, b = input().split()\n",
    "a=int(a)\n",
    "b=int(b)\n",
    "print(a)\n",
    "print(b)\n"
   ]
  },
  {
   "cell_type": "code",
   "execution_count": null,
   "id": "10121818-cccc-4de8-862c-d996a2d4ef7c",
   "metadata": {},
   "outputs": [],
   "source": [
    "#16\n",
    "a, b = input().split()\n",
    "print(b,a)"
   ]
  },
  {
   "cell_type": "code",
   "execution_count": null,
   "id": "a0536f2b-8158-4ab5-ab65-9192487f0baf",
   "metadata": {},
   "outputs": [],
   "source": [
    "#17\n",
    "s=input()\n",
    "print(s,s,s)\n"
   ]
  },
  {
   "cell_type": "code",
   "execution_count": null,
   "id": "f419b077-ee97-40ac-b4cc-88bc018af433",
   "metadata": {},
   "outputs": [],
   "source": [
    "#18\n",
    "a, b = input().split(':')\n",
    "print(a, b, sep=':')\n"
   ]
  },
  {
   "cell_type": "code",
   "execution_count": null,
   "id": "e42976d9-432e-474c-9c4c-f030ed90b6f8",
   "metadata": {},
   "outputs": [],
   "source": [
    "#19\n",
    "y, m, d = input().split('.')\n",
    "print(d,m,y,sep='-')\n"
   ]
  },
  {
   "cell_type": "code",
   "execution_count": null,
   "id": "69fd5ab1-dc57-430a-89a1-8945b23fc675",
   "metadata": {},
   "outputs": [],
   "source": [
    "#20\n",
    "resident_number = input()\n",
    "cleaned_number = resident_number.replace('-', '')\n",
    "print(cleaned_number)\n"
   ]
  },
  {
   "cell_type": "code",
   "execution_count": null,
   "id": "4a4570ea-9f28-450e-b69f-da036d1f86bd",
   "metadata": {},
   "outputs": [],
   "source": [
    "#21\n",
    "s = input()\n",
    "print(s[0])\n",
    "print(s[1])\n",
    "print(s[2])\n",
    "print(s[3])\n",
    "print(s[4])\n"
   ]
  },
  {
   "cell_type": "code",
   "execution_count": null,
   "id": "94a757b3-5935-453e-9af5-591e9e5ba641",
   "metadata": {},
   "outputs": [],
   "source": [
    "#22\n",
    "s = input()\n",
    "print(s[0:2])\n",
    "print(s[2:4])\n",
    "print(s[4:6])"
   ]
  },
  {
   "cell_type": "code",
   "execution_count": null,
   "id": "dd11d059-8c37-4037-a4ff-a7f550801c24",
   "metadata": {},
   "outputs": [],
   "source": [
    "#23\n",
    "h,m,s=input().split(':')\n",
    "print(m)\n"
   ]
  },
  {
   "cell_type": "code",
   "execution_count": null,
   "id": "5d6efc39-248d-45a5-b3f5-36dd6f29b37f",
   "metadata": {},
   "outputs": [],
   "source": [
    "#24\n",
    "w1, w2 = input().split()\n",
    "s = w1 + w2\n",
    "print(s)\n"
   ]
  },
  {
   "cell_type": "code",
   "execution_count": null,
   "id": "6559eba5-e11e-44db-a839-508d0f53664f",
   "metadata": {},
   "outputs": [],
   "source": [
    "#25\n",
    "a, b = input().split()\n",
    "c = int(a) + int(b)\n",
    "print(c)\n"
   ]
  },
  {
   "cell_type": "code",
   "execution_count": null,
   "id": "91399949-4698-4ebc-adef-5830beb27a1b",
   "metadata": {},
   "outputs": [],
   "source": [
    "#26\n",
    "a=float(input())\n",
    "b=float(input())\n",
    "c=a+b\n",
    "print(c)\n"
   ]
  },
  {
   "cell_type": "code",
   "execution_count": null,
   "id": "dc49fb63-b90f-48ef-8bcf-21fbcbedda64",
   "metadata": {},
   "outputs": [],
   "source": [
    "#27\n",
    "a = input()\n",
    "n = int(a)  \n",
    "print('%x'% n)"
   ]
  },
  {
   "cell_type": "code",
   "execution_count": null,
   "id": "85b4dbe6-f060-41d5-a289-9c31f0a994ce",
   "metadata": {},
   "outputs": [],
   "source": [
    "#28\n",
    "a = input()\n",
    "n = int(a)          \n",
    "print('%X'% n)"
   ]
  },
  {
   "cell_type": "code",
   "execution_count": null,
   "id": "08db9ecb-dc0d-49e2-900b-d0e568334585",
   "metadata": {},
   "outputs": [],
   "source": [
    "#29\n",
    "a = input()\n",
    "n = int(a, 16)     \n",
    "print('%o' % n)\n"
   ]
  },
  {
   "cell_type": "code",
   "execution_count": null,
   "id": "a3c6af91-943e-47de-96f7-da44fc66520b",
   "metadata": {},
   "outputs": [],
   "source": [
    "#30\n",
    "n = ord(input())\n",
    "print(n)\n"
   ]
  },
  {
   "cell_type": "code",
   "execution_count": null,
   "id": "f3b45e72-3128-4322-8373-5c89d37b2f77",
   "metadata": {},
   "outputs": [],
   "source": [
    "#31\n",
    "c = int(input())\n",
    "print(chr(c))"
   ]
  },
  {
   "cell_type": "code",
   "execution_count": null,
   "id": "eff627e1-9cd0-4ed7-806a-4e6f231e4ba0",
   "metadata": {},
   "outputs": [],
   "source": [
    "#32\n",
    "n=int(input())\n",
    "print(-n)"
   ]
  },
  {
   "cell_type": "code",
   "execution_count": null,
   "id": "7f26194d-0090-44e9-b511-2eef8088f696",
   "metadata": {},
   "outputs": [],
   "source": [
    "#33\n",
    "c = input()\n",
    "next_char = chr(ord(c) + 1)\n",
    "print(next_char)\n",
    "\n"
   ]
  },
  {
   "cell_type": "code",
   "execution_count": null,
   "id": "a00553a6-c445-4bd7-8d12-8d18d3e948fa",
   "metadata": {},
   "outputs": [],
   "source": [
    "#34\n",
    "a, b = map(int, input().split())\n",
    "c = a - b\n",
    "print(c)\n"
   ]
  },
  {
   "cell_type": "code",
   "execution_count": null,
   "id": "f7697c95-aea2-49c0-bb97-8daed3a0178b",
   "metadata": {},
   "outputs": [],
   "source": [
    "#35\n",
    "f1, f2 = map(float, input().split())\n",
    "m = f1 * f2\n",
    "print(m)"
   ]
  },
  {
   "cell_type": "code",
   "execution_count": null,
   "id": "84a8a998-eb25-44ee-abf2-698c35c0e2a3",
   "metadata": {},
   "outputs": [],
   "source": [
    "#36\n",
    "w, n = input().split()\n",
    "print(w*int(n))\n"
   ]
  },
  {
   "cell_type": "code",
   "execution_count": null,
   "id": "6de4d0a0-3541-43b8-ade7-c961cbd280c1",
   "metadata": {},
   "outputs": [],
   "source": [
    "#37\n",
    "n = input()\n",
    "s = input()\n",
    "print(int(n)*s)\n"
   ]
  },
  {
   "cell_type": "code",
   "execution_count": null,
   "id": "696a6562-4a21-46c1-a744-acf4c7eb74da",
   "metadata": {},
   "outputs": [],
   "source": [
    "#38\n",
    "a,b=map(int,input().split())\n",
    "c=a**b\n",
    "print(c)\n"
   ]
  },
  {
   "cell_type": "code",
   "execution_count": null,
   "id": "2d2f9513-1e14-4438-9e16-8676d1c0dfc9",
   "metadata": {},
   "outputs": [],
   "source": [
    "#39\n",
    "fl,f2=map(float,input().split())\n",
    "c=fl**f2\n",
    "print(c)\n"
   ]
  },
  {
   "cell_type": "code",
   "execution_count": null,
   "id": "3bd0bebb-75d9-48c6-b92d-39ab0e3fed98",
   "metadata": {},
   "outputs": [],
   "source": [
    "#40\n",
    "a,b=map(int,input().split())\n",
    "c=a//b\n",
    "print(c)\n"
   ]
  },
  {
   "cell_type": "code",
   "execution_count": null,
   "id": "4c902d2d-decf-446b-a542-48bf7638ae33",
   "metadata": {},
   "outputs": [],
   "source": [
    "#41\n",
    "a,b=map(int,input().split())\n",
    "c=a%b\n",
    "print(c)\n"
   ]
  },
  {
   "cell_type": "code",
   "execution_count": null,
   "id": "d554224d-21c7-4c96-bead-fdab48672bfe",
   "metadata": {},
   "outputs": [],
   "source": [
    "#42\n",
    "a=float(input())\n",
    "print( format(a, \".2f\") )\n",
    "\n"
   ]
  },
  {
   "cell_type": "code",
   "execution_count": null,
   "id": "a237742b-5ca4-4619-ac16-e6abdf33b5f9",
   "metadata": {},
   "outputs": [],
   "source": [
    "#43\n",
    "f1, f2 = map(float, input().split())\n",
    "f3 = f1 / f2\n",
    "print(format(f3,\".3f\"))"
   ]
  },
  {
   "cell_type": "code",
   "execution_count": null,
   "id": "9bf1e924-1505-4c19-b0c1-a71858e76f9a",
   "metadata": {},
   "outputs": [],
   "source": [
    "#44\n",
    "a,b=map(int,input().split())\n",
    "print(a+b)\n",
    "print(a-b)\n",
    "print(a*b)\n",
    "print(a//b)\n",
    "print(a%b)\n",
    "c=a/b\n",
    "print(format(c,\".2f\"))\n"
   ]
  },
  {
   "cell_type": "code",
   "execution_count": null,
   "id": "c4e75ed2-8d98-4dae-a060-dd502a34740b",
   "metadata": {},
   "outputs": [],
   "source": [
    "#45\n",
    "a,b,c=map(int,input().split())\n",
    "s=a+b+c\n",
    "m=(a+b+c)/3\n",
    "m1 = \"{:.2f}\".format(m)\n",
    "print(s,m1,sep=\" \")"
   ]
  },
  {
   "cell_type": "code",
   "execution_count": null,
   "id": "8b2b0b41-c478-4498-998c-f22c8bccd80a",
   "metadata": {},
   "outputs": [],
   "source": [
    "#46\n",
    "a= int(input())\n",
    "b=a*2\n",
    "print(b)"
   ]
  },
  {
   "cell_type": "code",
   "execution_count": null,
   "id": "35fdd82d-f6cc-4d2a-a553-e60adbdc68ce",
   "metadata": {},
   "outputs": [],
   "source": [
    "#47\n",
    "a,b=map(int,input().split())\n",
    "m=a*2**b\n",
    "print(m)"
   ]
  },
  {
   "cell_type": "code",
   "execution_count": null,
   "id": "456ed1d1-d451-4e24-8697-507e6d5d5e8f",
   "metadata": {},
   "outputs": [],
   "source": [
    "#48\n",
    "a,b=map(int,input().split())\n",
    "if a<b:\n",
    "    print(\"True\")\n",
    "else:\n",
    "    print(\"False\")"
   ]
  },
  {
   "cell_type": "code",
   "execution_count": null,
   "id": "389b7f04-73b8-4e6e-89bb-c0b708c6cdf0",
   "metadata": {},
   "outputs": [],
   "source": [
    "#49\n",
    "a,b=map(int,input().split())\n",
    "if a==b:\n",
    "    print(\"True\")\n",
    "else:\n",
    "    print(\"False\")\n"
   ]
  },
  {
   "cell_type": "code",
   "execution_count": null,
   "id": "d6002948-6a6b-4bf5-aa71-9844cec136cc",
   "metadata": {},
   "outputs": [],
   "source": [
    "#50\n",
    "a,b=map(int,input().split())\n",
    "if b>=a:\n",
    "    print(\"True\")\n",
    "else:\n",
    "    print(\"False\")\n"
   ]
  },
  {
   "cell_type": "code",
   "execution_count": null,
   "id": "2f0bbb32-3ee4-42e7-acb5-46713db0bffd",
   "metadata": {},
   "outputs": [],
   "source": [
    "#51\n",
    "a,b=map(int,input().split())\n",
    "if a!=b:\n",
    "    print(\"True\")\n",
    "else:\n",
    "    print(\"False\")\n"
   ]
  },
  {
   "cell_type": "code",
   "execution_count": null,
   "id": "b1f1ff88-39df-4caf-9e15-a5d3ce509f20",
   "metadata": {},
   "outputs": [],
   "source": [
    "#52\n",
    "n = int(input())\n",
    "print(bool(n))"
   ]
  },
  {
   "cell_type": "code",
   "execution_count": null,
   "id": "05ea178d-2b38-469a-bb1c-71db48a8113a",
   "metadata": {},
   "outputs": [],
   "source": [
    "#53\n",
    "a = bool(int(input()))\n",
    "print(not a)"
   ]
  },
  {
   "cell_type": "code",
   "execution_count": null,
   "id": "f6610be1-9fe0-48cf-88eb-076ef4e25d38",
   "metadata": {},
   "outputs": [],
   "source": [
    "#54\n",
    "a, b = input().split()\n",
    "print(bool(int(a)) and bool(int(b)))"
   ]
  },
  {
   "cell_type": "code",
   "execution_count": null,
   "id": "be2bbcfc-1c65-4e09-8ed9-903477bebca7",
   "metadata": {},
   "outputs": [],
   "source": [
    "#55\n",
    "a, b = input().split()\n",
    "print(bool(int(a)) or bool(int(b)))"
   ]
  },
  {
   "cell_type": "code",
   "execution_count": null,
   "id": "1b304af1-60d0-44d6-9119-7fa144167f72",
   "metadata": {},
   "outputs": [],
   "source": [
    "#56\n",
    "num1, num2 = map(int, input().split())\n",
    "\n",
    "\n",
    "if bool(num1) != bool(num2):\n",
    "    print(True)\n",
    "else:\n",
    "    print(False)\n"
   ]
  },
  {
   "cell_type": "code",
   "execution_count": null,
   "id": "09aa304f-5468-413a-9b88-dd20412c1a24",
   "metadata": {},
   "outputs": [],
   "source": [
    "#57\n",
    "a,b=map(int,input().split())\n",
    "if a==b:\n",
    "    print(\"True\")\n",
    "else:\n",
    "    print(\"False\")"
   ]
  },
  {
   "cell_type": "code",
   "execution_count": null,
   "id": "2b00e654-1047-4c88-9ff0-b834af5c8dd6",
   "metadata": {},
   "outputs": [],
   "source": [
    "#58\n",
    "a, b = map(int, input().split())\n",
    "\n",
    "if a == 0 and b == 0:\n",
    "    print(True)\n",
    "else:\n",
    "    print(False)"
   ]
  },
  {
   "cell_type": "code",
   "execution_count": null,
   "id": "c5c41ec7-e4a0-4e49-a4fc-dd3205d7f864",
   "metadata": {},
   "outputs": [],
   "source": [
    "#59\n",
    "print(~int(input()))"
   ]
  },
  {
   "cell_type": "code",
   "execution_count": null,
   "id": "4f8d9384-c5ba-4c51-ae13-d003bbf9a414",
   "metadata": {},
   "outputs": [],
   "source": [
    "#60\n",
    "a, b = map(int, input().split())\n",
    "print(int(a & b))"
   ]
  },
  {
   "cell_type": "code",
   "execution_count": null,
   "id": "d9b3eac2-8543-4786-a71b-a41792915bb1",
   "metadata": {},
   "outputs": [],
   "source": [
    "#61\n",
    "a, b = map(int, input().split())\n",
    "print(int(a | b))\n"
   ]
  },
  {
   "cell_type": "code",
   "execution_count": null,
   "id": "05e2a129-4337-4b4b-be9f-3cc18cff43db",
   "metadata": {},
   "outputs": [],
   "source": [
    "#62\n",
    "a, b = map(int, input().split())\n",
    "print(int(a ^ b))"
   ]
  },
  {
   "cell_type": "code",
   "execution_count": null,
   "id": "c0d989f6-c051-467f-a810-8d5c6f7e6345",
   "metadata": {},
   "outputs": [],
   "source": [
    "#63\n",
    "print(max(list(map(int, input().split()))))"
   ]
  },
  {
   "cell_type": "code",
   "execution_count": null,
   "id": "5e7fc96d-0919-4d00-95c0-cfab21c0865c",
   "metadata": {},
   "outputs": [],
   "source": [
    "#64\n",
    "a, b, c = map(int, input().split())\n",
    "print(min(a, b, c))\n"
   ]
  },
  {
   "cell_type": "code",
   "execution_count": null,
   "id": "ef154bb0-9ea6-4af7-a22e-bef7196bfdd7",
   "metadata": {},
   "outputs": [],
   "source": [
    "#65\n",
    "a, b, c = input().split()\n",
    "\n",
    "a = int(a)\n",
    "b = int(b)\n",
    "c = int(c)\n",
    "\n",
    "if a%2==0 :  \n",
    "  print(a)\n",
    "\n",
    "if b%2==0 :\n",
    "  print(b) \n",
    "\n",
    "if c%2==0 :\n",
    "  print(c)\n"
   ]
  },
  {
   "cell_type": "code",
   "execution_count": null,
   "id": "29bb2b54-13e0-47c2-bfd2-3891ee15e1eb",
   "metadata": {},
   "outputs": [],
   "source": [
    "#66\n",
    "a, b, c = input().split()\n",
    "\n",
    "a = int(a)\n",
    "b = int(b)\n",
    "c = int(c)\n",
    "\n",
    "if a%2==0 :  #논리적으로 한 단위로 처리해야하는 경우 콜론(:)을 찍고, 들여쓰기로 작성 한다.\n",
    "  print(\"even\")\n",
    "else:\n",
    "    print(\"odd\")\n",
    "\n",
    "if b%2==0 :\n",
    "  print(\"even\")\n",
    "else:\n",
    "    print(\"odd\")  \n",
    "\n",
    "\n",
    "if c%2==0 :\n",
    "      print(\"even\")\n",
    "else:\n",
    "    print(\"odd\")\n"
   ]
  },
  {
   "cell_type": "code",
   "execution_count": null,
   "id": "ddc521ce-2c63-4aa7-b1cf-93cf5c9e8441",
   "metadata": {},
   "outputs": [],
   "source": [
    "#67\n",
    "n = int(input())\n",
    "\n",
    "if n < 0:\n",
    "    if n % 2:\n",
    "        print(\"B\")\n",
    "    else:\n",
    "        print(\"A\")\n",
    "else:\n",
    "    if n % 2:\n",
    "        print(\"D\")\n",
    "    else:\n",
    "        print(\"C\")"
   ]
  },
  {
   "cell_type": "code",
   "execution_count": null,
   "id": "3b81daf5-92cd-4537-8c6c-7df18f9022d4",
   "metadata": {},
   "outputs": [],
   "source": [
    "#68\n",
    "n = int(input())\n",
    "\n",
    "if n >= 90:\n",
    "    print(\"A\")\n",
    "elif n >= 70:\n",
    "    print(\"B\")\n",
    "elif n >= 40:\n",
    "    print(\"C\")\n",
    "else:\n",
    "    print(\"D\")\n"
   ]
  },
  {
   "cell_type": "code",
   "execution_count": null,
   "id": "96d7ae1e-aca8-4a06-884d-1e256184c439",
   "metadata": {},
   "outputs": [],
   "source": [
    "#69\n",
    "c = input()\n",
    "\n",
    "if c == \"A\":\n",
    "    print(\"best!!!\")\n",
    "elif c == \"B\":\n",
    "    print(\"good!!\")\n",
    "elif c == \"C\":\n",
    "    print(\"run!\")\n",
    "elif c == \"D\":\n",
    "    print(\"slowly~\")\n",
    "else:\n",
    "    print(\"what?\")\n"
   ]
  },
  {
   "cell_type": "code",
   "execution_count": null,
   "id": "0cec2dbc-530b-483b-b0e9-6538d507fdff",
   "metadata": {},
   "outputs": [],
   "source": [
    "#70\n",
    "n = int(input())\n",
    "\n",
    "if n in (12, 1, 2):\n",
    "    print(\"winter\")\n",
    "elif n in (3, 4, 5):\n",
    "    print(\"spring\")\n",
    "elif n in (6, 7, 8):\n",
    "    print(\"summer\")\n",
    "else:\n",
    "    print(\"fall\")"
   ]
  },
  {
   "cell_type": "code",
   "execution_count": null,
   "id": "791f0ccc-a64c-4d31-acc6-61318999443c",
   "metadata": {},
   "outputs": [],
   "source": [
    "#71\n",
    "while(True):\n",
    "    n = int(input())\n",
    "    if not n:\n",
    "        break\n",
    "    print(n)"
   ]
  },
  {
   "cell_type": "code",
   "execution_count": null,
   "id": "650e1004-9ab4-4b30-9930-72fe89fdfc65",
   "metadata": {},
   "outputs": [],
   "source": [
    "#72\n",
    "n = int(input())\n",
    "\n",
    "while n > 0:\n",
    "    print(n)\n",
    "    n -= 1\n"
   ]
  },
  {
   "cell_type": "code",
   "execution_count": null,
   "id": "e6171583-fb81-42b7-a51d-c11967047190",
   "metadata": {},
   "outputs": [],
   "source": [
    "#73\n",
    "n = int(input())\n",
    "\n",
    "while n > 0:\n",
    "    n -= 1\n",
    "    print(n)"
   ]
  },
  {
   "cell_type": "code",
   "execution_count": null,
   "id": "7f3f5698-a508-4151-93a3-56b95d327b65",
   "metadata": {},
   "outputs": [],
   "source": [
    "#74\n",
    "c = ord(input())\n",
    "t = ord('a')\n",
    "while t<=c :\n",
    "  print(chr(t), end=' ')\n",
    "  t += 1"
   ]
  },
  {
   "cell_type": "code",
   "execution_count": null,
   "id": "eeaf5261-542c-4781-b024-d197bd67a079",
   "metadata": {},
   "outputs": [],
   "source": [
    "#75\n",
    "n = int(input())\n",
    "\n",
    "for i in range(n+1):\n",
    "    print(i)\n"
   ]
  },
  {
   "cell_type": "code",
   "execution_count": null,
   "id": "e2962334-4b9a-4484-b1b1-62710d43f238",
   "metadata": {},
   "outputs": [],
   "source": [
    "#76\n",
    "n = int(input())\n",
    "\n",
    "for i in range(n+1):\n",
    "    print(i)"
   ]
  }
 ],
 "metadata": {
  "kernelspec": {
   "display_name": "Python 3 (ipykernel)",
   "language": "python",
   "name": "python3"
  },
  "language_info": {
   "codemirror_mode": {
    "name": "ipython",
    "version": 3
   },
   "file_extension": ".py",
   "mimetype": "text/x-python",
   "name": "python",
   "nbconvert_exporter": "python",
   "pygments_lexer": "ipython3",
   "version": "3.11.7"
  }
 },
 "nbformat": 4,
 "nbformat_minor": 5
}
